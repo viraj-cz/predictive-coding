{
  "nbformat": 4,
  "nbformat_minor": 0,
  "metadata": {
    "colab": {
      "provenance": [],
      "authorship_tag": "ABX9TyMWbg2/puOqoHi7ud1/slt7",
      "include_colab_link": true
    },
    "kernelspec": {
      "name": "python3",
      "display_name": "Python 3"
    },
    "language_info": {
      "name": "python"
    }
  },
  "cells": [
    {
      "cell_type": "markdown",
      "metadata": {
        "id": "view-in-github",
        "colab_type": "text"
      },
      "source": [
        "<a href=\"https://colab.research.google.com/github/viraj-cz/predictive-coding/blob/main/PredictiveCoding.ipynb\" target=\"_parent\"><img src=\"https://colab.research.google.com/assets/colab-badge.svg\" alt=\"Open In Colab\"/></a>"
      ]
    },
    {
      "cell_type": "markdown",
      "source": [
        "#Implementation and experiments with pred code networks"
      ],
      "metadata": {
        "id": "-1NbfybFhnB3"
      }
    },
    {
      "cell_type": "markdown",
      "source": [
        "General Introduction to Predictive coding: https://arxiv.org/pdf/2107.12979.pdf\n",
        "\n",
        "implementation of the predictive coding network in numpy (\"An Approximation of the Error Backpropagation\n",
        "Algorithm in a Predictive Coding Network\n",
        "with Local Hebbian Synaptic Plasticity\")\n",
        "\n",
        "paper link: https://www.mrcbndu.ox.ac.uk/sites/default/files/pdf_files/Whittington%20Bogacz%202017_Neural%20Comput.pdf"
      ],
      "metadata": {
        "id": "0tx-68MzXaR4"
      }
    },
    {
      "cell_type": "code",
      "execution_count": 1,
      "metadata": {
        "id": "BJQll9i7XMYF"
      },
      "outputs": [],
      "source": [
        "import numpy as np\n",
        "import matplotlib.pyplot as plt"
      ]
    },
    {
      "cell_type": "code",
      "source": [
        "'''\n",
        "for test we want to return this:\n",
        "\n",
        "  Weights (5x2 matrix) at run 4:\n",
        "    0.5828   -0.7452\n",
        "    0.7514   -0.4101\n",
        "   -0.6907    0.0868\n",
        "    0.7654    0.8471\n",
        "    0.2451    0.8608\n",
        "\n",
        "Weights at run 4:\n",
        "    {5x2 double                            }\n",
        "    {[-0.6848 0.9412 0.9143 -0.0292 0.6006]}\n",
        "    {0x0 double                            }\n",
        "\n",
        "Biases at run 4:\n",
        "    {5x1 double}\n",
        "    {[       0]}\n",
        "    {0x0 double}\n",
        "'''\n",
        "def w_init_tanh_trial():\n",
        "    # Fixed weights\n",
        "    w = [\n",
        "        np.array([[0.5828, -0.7452],\n",
        "                  [0.7514, -0.4101],\n",
        "                  [-0.6907, 0.0868],\n",
        "                  [0.7654, 0.8471],\n",
        "                  [0.2451, 0.8608]]),  # 5x2 matrix\n",
        "        np.array([[-0.6848, 0.9412, 0.9143, -0.0292, 0.6006]])  # 1x5 matrix\n",
        "    ]\n",
        "\n",
        "    # Fixed biases\n",
        "    b = [\n",
        "        np.zeros((5, 1)),  # 5x1 matrix of zeros\n",
        "        np.zeros((1, 1))   # 1x1 matrix of zeros\n",
        "    ]\n",
        "\n",
        "    return w, b"
      ],
      "metadata": {
        "id": "rIxbnFEtYCl-"
      },
      "execution_count": 7,
      "outputs": []
    },
    {
      "cell_type": "code",
      "source": [
        "#xavier init\n",
        "def w_init_tanh(neurons):\n",
        "  n_layers = len(neurons)\n",
        "  w = [None] * (n_layers - 1)\n",
        "  b = [None] * (n_layers - 1)\n",
        "\n",
        "  for i in range(n_layers - 1):\n",
        "      norm_w = np.sqrt(6 / (neurons[i + 1] +neurons[i]))\n",
        "      w[i] = np.random.uniform(-1, 1, (neurons[i + 1], neurons[i])) * norm_w\n",
        "      b[i] = np.zeros((neurons[i + 1], 1))\n",
        "  return w, b"
      ],
      "metadata": {
        "id": "wRe3Wx8iYOp_"
      },
      "execution_count": 8,
      "outputs": []
    },
    {
      "cell_type": "code",
      "source": [
        "parameters = {\n",
        "    \"itr\":100, #this is the number of iterations\n",
        "    \"l_rate\":0.2, #this is the learning rate\n",
        "    \"epochs\":500, #this is the total number of epochs\n",
        "    \"beta\":0.2, #[TODO]\n",
        "    \"neurons\": [2,5,1], #this basically says two nodes for input, 5 in hidden and 1 for the output\n",
        "    \"n_layers\":3, #basically how many layers we have\n",
        "    \"variance\": [1,1,10] #this defines varaince for each layer, 1 for all layers but 10 for last, why though? [TODO]\n",
        "}"
      ],
      "metadata": {
        "id": "BOn_QS67Yuou"
      },
      "execution_count": 4,
      "outputs": []
    },
    {
      "cell_type": "code",
      "source": [
        "#we are using tanh for activation, returns tanh and d(tanh(x))/dx\n",
        "def f_b(x):\n",
        "  f_n = np.tanh(x)\n",
        "  f_p = (1 - (np.tanh(x) ** 2))\n",
        "  return f_n, f_p"
      ],
      "metadata": {
        "id": "2XH9RfGDZHlB"
      },
      "execution_count": 5,
      "outputs": []
    },
    {
      "cell_type": "markdown",
      "source": [
        "here's the basic idea:\n",
        "\n",
        "$\\frac{\\partial F}{\\partial x_{b}^{(a)}} = - \\frac{x_{b}^{(a)} - \\mu_{b}^{(a)}}{\\Sigma_{b}^{(a)}} + \\sum_{i=1}^{n^{(a-1)}} \\frac{x_{i}^{(a-1)} - \\mu_{i}^{(a-1)}}{\\Sigma_{i}^{(a-1)}} \\theta_{i,b}^{(a)} f'\\left( x_{b}^{(a)} \\right)$\n",
        "\n",
        "where errors are given by\n",
        "\n",
        "$\\epsilon_{i}^{(l)} = \\frac{x_{i}^{(l)} - \\mu_{i}^{(l)}}{\\Sigma_{i}^{(l)}}$\n",
        "\n"
      ],
      "metadata": {
        "id": "OM8tBYrYffFm"
      }
    },
    {
      "cell_type": "code",
      "source": [
        "#this is the heart of the pred code algo\n",
        "def infer(x,w,b,params):\n",
        "  itr_max = params[\"itr\"]\n",
        "  n_layers = params[\"n_layers\"]\n",
        "  beta = params[\"beta\"]\n",
        "  variance = params[\"variance\"]\n",
        "  neurons = params[\"neurons\"]\n",
        "\n",
        "  e = [None] * n_layers\n",
        "  f_n = [None] * (n_layers)\n",
        "  f_p = [None] * (n_layers)\n",
        "\n",
        "\n",
        "  #now calculating the inital errors:\n",
        "  e[0] = np.array([0,0]).reshape(1,-1)\n",
        "  for i in range(n_layers):\n",
        "    f_n[i], f_p[i] = f_b(x[i])\n",
        "    if i == 0:\n",
        "      pass\n",
        "    else:\n",
        "      e[i] = (x[i] - ((f_n[i-1] @ w[i-1].T) + b[i-1].T))/variance[i] #WHY THE FUCK WAS THERE -ve SIGN HERE IN THE MATLAB CODE???? [TODO]\n",
        "\n",
        "  for j in range(itr_max):\n",
        "\n",
        "    g = (w[1].T @ e[2]).T * f_p[1] #REMEBER WEIGHT IS SUBSCRIPTED DIFF FROM X's\n",
        "    x[1] = x[1] + beta * (- e[1] + g)\n",
        "\n",
        "    e[0] = np.array([0]).reshape(1,-1)\n",
        "    for i in range(n_layers):\n",
        "      f_n[i], f_p[i] = f_b(x[i])\n",
        "      if i == 0:\n",
        "        pass\n",
        "      else:\n",
        "        e[i] = (x[i] - ((f_n[i-1] @ w[i-1].T) + b[i-1].T))/variance[i]\n",
        "  return x, e\n"
      ],
      "metadata": {
        "id": "xq7L1ydfZd7f"
      },
      "execution_count": 6,
      "outputs": []
    },
    {
      "cell_type": "code",
      "source": [
        "def rms_error(y, f):\n",
        "    rmse = np.sqrt(np.mean((y - f) ** 2))\n",
        "    return rmse"
      ],
      "metadata": {
        "id": "0nVV_0SoZ6bS"
      },
      "execution_count": 9,
      "outputs": []
    },
    {
      "cell_type": "code",
      "source": [
        "def predict(in_data_single,w,b,n_layers):\n",
        "  x = [None] * n_layers\n",
        "  x[0] = np.array(in_data_single)\n",
        "  for j in range(1,n_layers):\n",
        "    x[j] = (np.tanh(x[j-1].reshape(1,-1)) @ w[j-1].T ) + b[j-1].T\n",
        "  predicted = x[-1]\n",
        "  return predicted[0][0]"
      ],
      "metadata": {
        "id": "mq8dksa4aBZA"
      },
      "execution_count": 10,
      "outputs": []
    },
    {
      "cell_type": "markdown",
      "source": [
        "#finally when the inference is done, we learn by a last Gradient Descent step\n",
        "\n",
        "$\\frac{\\partial F^*}{\\partial \\theta_{b,c}^{(a)}} = \\epsilon_{b}^{*(a-1)} f\\left( x_{c}^{*(a)} \\right)$\n",
        "\n",
        "\n",
        "\n"
      ],
      "metadata": {
        "id": "Jrme7oxRgKhx"
      }
    },
    {
      "cell_type": "code",
      "source": [
        "#learning is *almost* same except we use localised errors and not global errors\n",
        "def learn(in_data,out_data,w,b,params):\n",
        "  n_layers = params[\"n_layers\"]\n",
        "  l_rate = params[\"l_rate\"]\n",
        "  variance = params[\"variance\"]\n",
        "  itr_max = params[\"itr\"]\n",
        "  n_layers = params[\"n_layers\"]\n",
        "  beta = params[\"beta\"]\n",
        "  neurons = params[\"neurons\"]\n",
        "  iterations = len(in_data[0])\n",
        "  v_out = variance[-1]\n",
        "\n",
        "\n",
        "  for i in range(iterations):\n",
        "    x = [None] * n_layers\n",
        "    grad_w = [None] * len(w)\n",
        "    grad_b = [None] * len(b)\n",
        "\n",
        "    x[0] = in_data[:,i]\n",
        "    x[0] = x[0].reshape(1,-1)\n",
        "    x_out = out_data[i]\n",
        "\n",
        "    for j in range(1,n_layers):\n",
        "      x[j] = (np.tanh(x[j-1].reshape(1,-1)) @ w[j-1].T ) + b[j-1].T\n",
        "\n",
        "    x[n_layers-1]  = np.array(x_out).reshape(1,-1)\n",
        "    x, e = infer(x,w,b,parameters)\n",
        "\n",
        "    for j in range(n_layers-1):\n",
        "      grad_b[j] = v_out * e[j+1].T\n",
        "      grad_w[j] = v_out * e[j+1].T  @  np.tanh(x[j])\n",
        "\n",
        "    for j in range(n_layers-1):\n",
        "      w[j] += l_rate * grad_w[j]\n",
        "      b[j] += l_rate * grad_b[j]\n"
      ],
      "metadata": {
        "id": "T3KWTPm_aDCH"
      },
      "execution_count": 12,
      "outputs": []
    },
    {
      "cell_type": "code",
      "source": [
        "#We are using XOR for our first test\n",
        "in_data = np.array([[0,0,1,1],\n",
        "           [0,1,0,1]])\n",
        "out_data = np.array([1,0,0,1])"
      ],
      "metadata": {
        "id": "LJqHsirVaYWF"
      },
      "execution_count": 13,
      "outputs": []
    },
    {
      "cell_type": "code",
      "source": [
        "w, b = w_init_tanh_trial()\n",
        "iterations = len(in_data[0])\n",
        "n_layers = 3"
      ],
      "metadata": {
        "id": "V_-BoBmJaLX6"
      },
      "execution_count": 14,
      "outputs": []
    },
    {
      "cell_type": "code",
      "source": [
        "err_arr = []\n",
        "for i in range(500):\n",
        "  learn(in_data,out_data, w ,b, parameters)\n",
        "  predicted = []\n",
        "  for data in zip(*in_data):\n",
        "      pred = predict(np.array(data), w, b, n_layers)\n",
        "      predicted.append(pred)\n",
        "\n",
        "  predicted = np.array(predicted)\n",
        "  rmse = rms_error(out_data, predicted)\n",
        "  err_arr.append(rmse)"
      ],
      "metadata": {
        "id": "K5rYEPxXac04"
      },
      "execution_count": 15,
      "outputs": []
    },
    {
      "cell_type": "code",
      "source": [
        "plt.figure(figsize=(10, 6))\n",
        "plt.plot(err_arr, marker='o', linestyle='-')\n",
        "plt.title('RMSE Values Over Iterations')\n",
        "plt.xlabel('Iteration')\n",
        "plt.ylabel('RMSE')\n",
        "plt.grid(True)\n",
        "plt.show()"
      ],
      "metadata": {
        "colab": {
          "base_uri": "https://localhost:8080/",
          "height": 564
        },
        "id": "gVZ3MKZlaeLK",
        "outputId": "eaf49f44-f39c-449a-e1f1-a56df2e21e9d"
      },
      "execution_count": 16,
      "outputs": [
        {
          "output_type": "display_data",
          "data": {
            "text/plain": [
              "<Figure size 1000x600 with 1 Axes>"
            ],
            "image/png": "[encoded data removed]"
          },
          "metadata": {}
        }
      ]
    },
    {
      "cell_type": "code",
      "source": [
        "#LFG! IT WORKS!"
      ],
      "metadata": {
        "id": "4wuyYRnQahQq"
      },
      "execution_count": 17,
      "outputs": []
    },
    {
      "cell_type": "markdown",
      "source": [
        "#now trying XOR with Xavier Init"
      ],
      "metadata": {
        "id": "OUcFocNcgnzg"
      }
    },
    {
      "cell_type": "code",
      "source": [
        "w, b = w_init_tanh([2,5,1])\n",
        "iterations = len(in_data[0])\n",
        "n_layers = 3"
      ],
      "metadata": {
        "id": "BhUCSdgxakSE"
      },
      "execution_count": 19,
      "outputs": []
    },
    {
      "cell_type": "code",
      "source": [
        "err_arr = []\n",
        "for i in range(500):\n",
        "  learn(in_data,out_data, w ,b, parameters)\n",
        "  predicted = []\n",
        "  for data in zip(*in_data):\n",
        "      pred = predict(np.array(data), w, b, n_layers)\n",
        "      predicted.append(pred)\n",
        "\n",
        "  predicted = np.array(predicted)\n",
        "  rmse = rms_error(out_data, predicted)\n",
        "  err_arr.append(rmse)"
      ],
      "metadata": {
        "id": "tsnSunqog0j6"
      },
      "execution_count": 20,
      "outputs": []
    },
    {
      "cell_type": "code",
      "source": [
        "plt.figure(figsize=(10, 6))\n",
        "plt.plot(err_arr, marker='o', linestyle='-')\n",
        "plt.title('RMSE Values Over Iterations')\n",
        "plt.xlabel('Iteration')\n",
        "plt.ylabel('RMSE')\n",
        "plt.grid(True)\n",
        "plt.show()"
      ],
      "metadata": {
        "colab": {
          "base_uri": "https://localhost:8080/",
          "height": 564
        },
        "id": "apKq2tmrhBSR",
        "outputId": "03f03015-aa3d-41da-8325-57255479d30a"
      },
      "execution_count": 21,
      "outputs": [
        {
          "output_type": "display_data",
          "data": {
            "text/plain": [
              "<Figure size 1000x600 with 1 Axes>"
            ],
            "image/png": "[encoded data removed]"
          },
          "metadata": {}
        }
      ]
    },
    {
      "cell_type": "code",
      "source": [
        "#LLLFFFGGGGGGGG!!"
      ],
      "metadata": {
        "id": "95icOQOKhEiZ"
      },
      "execution_count": null,
      "outputs": []
    }
  ]
}