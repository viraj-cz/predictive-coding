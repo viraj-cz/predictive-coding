{
 "cells": [
  {
   "cell_type": "code",
   "execution_count": 1,
   "metadata": {},
   "outputs": [],
   "source": [
    "import os\n",
    "import sys\n",
    "import torch\n",
    "import matplotlib.pyplot as plt\n",
    "import numpy as np\n",
    "current_directory = os.getcwd()\n",
    "model_path = os.path.join(os.path.dirname(current_directory), 'model')\n",
    "sys.path.insert(0, model_path)"
   ]
  },
  {
   "cell_type": "code",
   "execution_count": 2,
   "metadata": {},
   "outputs": [],
   "source": [
    "import np_functions\n",
    "import np_init\n",
    "import np_loss\n",
    "import np_infer\n",
    "import np_learn\n",
    "import np_forward"
   ]
  },
  {
   "cell_type": "code",
   "execution_count": 3,
   "metadata": {},
   "outputs": [],
   "source": [
    "parameters = {\n",
    "    \"itr\":100,\n",
    "    \"l_rate\":0.2, \n",
    "    \"epochs\":500,\n",
    "    \"beta\":0.2,\n",
    "    \"act_type\": \"RELU\",\n",
    "    \"alpha\": 1, \n",
    "    \"neurons\": [2,3,1], \n",
    "    \"variance\": [1,1,10]\n",
    "}\n",
    "parameters[\"n_layers\"] = (len(parameters[\"neurons\"]) ) #basically how many layers we have + 1"
   ]
  },
  {
   "cell_type": "markdown",
   "metadata": {},
   "source": [
    "# XOR Shuffle"
   ]
  },
  {
   "cell_type": "code",
   "execution_count": 4,
   "metadata": {},
   "outputs": [],
   "source": [
    "in_data = np.array([[0,0],[0,1],[1,0],[1,1]])\n",
    "out_data = np.array([1,0,0,1])\n",
    "indices = np.arange(in_data.shape[0])\n",
    "np.random.shuffle(indices)\n",
    "in_data = in_data[indices]\n",
    "out_data = out_data[indices]"
   ]
  },
  {
   "cell_type": "markdown",
   "metadata": {},
   "source": [
    "# Init + Activation Experiments:\n",
    "\n",
    "## Inits:\n",
    "1) Xavier\n",
    "2) He\n",
    "3) Standard Gaussian\n",
    "4) Uniform [-1,1]\n",
    "\n",
    "## Activations:\n",
    "1) Sigmoid\n",
    "2) TanH\n",
    "3) ReLU\n",
    "4) Clipped ReLU\n"
   ]
  },
  {
   "cell_type": "code",
   "execution_count": null,
   "metadata": {},
   "outputs": [],
   "source": []
  }
 ],
 "metadata": {
  "kernelspec": {
   "display_name": "pred-code",
   "language": "python",
   "name": "python3"
  },
  "language_info": {
   "codemirror_mode": {
    "name": "ipython",
    "version": 3
   },
   "file_extension": ".py",
   "mimetype": "text/x-python",
   "name": "python",
   "nbconvert_exporter": "python",
   "pygments_lexer": "ipython3",
   "version": "3.12.2"
  }
 },
 "nbformat": 4,
 "nbformat_minor": 2
}
