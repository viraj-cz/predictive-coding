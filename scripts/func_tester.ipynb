{
 "cells": [
  {
   "cell_type": "code",
   "execution_count": 41,
   "metadata": {},
   "outputs": [],
   "source": [
    "import os\n",
    "import sys\n",
    "import torch\n",
    "import matplotlib.pyplot as plt\n",
    "import numpy as np"
   ]
  },
  {
   "cell_type": "code",
   "execution_count": 42,
   "metadata": {},
   "outputs": [],
   "source": [
    "current_directory = os.getcwd()\n",
    "model_path = os.path.join(os.path.dirname(current_directory), 'model')\n",
    "sys.path.insert(0, model_path)"
   ]
  },
  {
   "cell_type": "markdown",
   "metadata": {},
   "source": [
    "## Testing Functions"
   ]
  },
  {
   "cell_type": "code",
   "execution_count": 2,
   "metadata": {},
   "outputs": [],
   "source": [
    "import np_functions\n",
    "import torch_functions\n"
   ]
  },
  {
   "cell_type": "code",
   "execution_count": 3,
   "metadata": {},
   "outputs": [],
   "source": [
    "x = torch.randn(100000)"
   ]
  },
  {
   "cell_type": "code",
   "execution_count": 4,
   "metadata": {},
   "outputs": [],
   "source": [
    "a1,b1 = torch_functions.f_b_sigmoid(x,1)\n",
    "a2,b2 = torch_functions.f_b_tanh(x)\n",
    "a3,b3 = torch_functions.f_b_relu(x)"
   ]
  },
  {
   "cell_type": "code",
   "execution_count": 5,
   "metadata": {},
   "outputs": [
    {
     "name": "stdout",
     "output_type": "stream",
     "text": [
      "1.77 ms ± 242 µs per loop (mean ± std. dev. of 7 runs, 100 loops each)\n"
     ]
    }
   ],
   "source": [
    "%%timeit\n",
    "a1,b1 = torch_functions.f_b_sigmoid(x,1)\n",
    "a2,b2 = torch_functions.f_b_tanh(x)\n",
    "a3,b3 = torch_functions.f_b_relu(x)"
   ]
  },
  {
   "cell_type": "code",
   "execution_count": 6,
   "metadata": {},
   "outputs": [],
   "source": [
    "x = x.numpy()"
   ]
  },
  {
   "cell_type": "code",
   "execution_count": 7,
   "metadata": {},
   "outputs": [],
   "source": [
    "p1,q1 = np_functions.f_b_sigmoid(x,1)\n",
    "p2,q2 = np_functions.f_b_tanh(x)\n",
    "p3,q3 = np_functions.f_b_relu(x)"
   ]
  },
  {
   "cell_type": "code",
   "execution_count": 8,
   "metadata": {},
   "outputs": [
    {
     "name": "stdout",
     "output_type": "stream",
     "text": [
      "1.51 ms ± 60 µs per loop (mean ± std. dev. of 7 runs, 100 loops each)\n"
     ]
    }
   ],
   "source": [
    "%%timeit\n",
    "p1,q1 = np_functions.f_b_sigmoid(x,1)\n",
    "p2,q2 = np_functions.f_b_tanh(x)\n",
    "p3,q3 = np_functions.f_b_relu(x)"
   ]
  },
  {
   "cell_type": "code",
   "execution_count": 9,
   "metadata": {},
   "outputs": [
    {
     "data": {
      "text/plain": [
       "True"
      ]
     },
     "execution_count": 9,
     "metadata": {},
     "output_type": "execute_result"
    }
   ],
   "source": [
    "([int(ele) for ele in a1] == [int(ele) for ele in p1] and\n",
    "[int(ele) for ele in a2] == [int(ele) for ele in p2] and\n",
    "[int(ele) for ele in a3] == [int(ele) for ele in p3] and\n",
    "[int(ele) for ele in b1] == [int(ele) for ele in q1] and\n",
    "[int(ele) for ele in b2] == [int(ele) for ele in q2] and \n",
    "[int(ele) for ele in b3] == [int(ele) for ele in q3])"
   ]
  },
  {
   "cell_type": "markdown",
   "metadata": {},
   "source": [
    "## Testing Loss"
   ]
  },
  {
   "cell_type": "code",
   "execution_count": 10,
   "metadata": {},
   "outputs": [],
   "source": [
    "import np_loss\n",
    "import torch_loss"
   ]
  },
  {
   "cell_type": "code",
   "execution_count": 11,
   "metadata": {},
   "outputs": [],
   "source": [
    "y = np.random.randn(100000)\n",
    "f = np.random.randn(100000)"
   ]
  },
  {
   "cell_type": "code",
   "execution_count": 12,
   "metadata": {},
   "outputs": [],
   "source": [
    "npl1 = np_loss.MSE_error(y,f)\n",
    "npl2 = np_loss.RMS_error(y,f)"
   ]
  },
  {
   "cell_type": "code",
   "execution_count": 13,
   "metadata": {},
   "outputs": [
    {
     "name": "stdout",
     "output_type": "stream",
     "text": [
      "191 µs ± 7.42 µs per loop (mean ± std. dev. of 7 runs, 10,000 loops each)\n"
     ]
    }
   ],
   "source": [
    "%%timeit\n",
    "npl1 = np_loss.MSE_error(y,f)\n",
    "npl2 = np_loss.RMS_error(y,f)"
   ]
  },
  {
   "cell_type": "code",
   "execution_count": 14,
   "metadata": {},
   "outputs": [],
   "source": [
    "y = torch.from_numpy(y)\n",
    "f = torch.from_numpy(f)"
   ]
  },
  {
   "cell_type": "code",
   "execution_count": 15,
   "metadata": {},
   "outputs": [],
   "source": [
    "tl1 = torch_loss.MSE_error(y,f)\n",
    "tl2 = torch_loss.RMS_error(y,f)"
   ]
  },
  {
   "cell_type": "code",
   "execution_count": 16,
   "metadata": {},
   "outputs": [
    {
     "name": "stdout",
     "output_type": "stream",
     "text": [
      "334 µs ± 85.8 µs per loop (mean ± std. dev. of 7 runs, 1,000 loops each)\n"
     ]
    }
   ],
   "source": [
    "%%timeit\n",
    "tl1 = torch_loss.MSE_error(y,f)\n",
    "tl2 = torch_loss.RMS_error(y,f)"
   ]
  },
  {
   "cell_type": "code",
   "execution_count": 17,
   "metadata": {},
   "outputs": [
    {
     "data": {
      "text/plain": [
       "True"
      ]
     },
     "execution_count": 17,
     "metadata": {},
     "output_type": "execute_result"
    }
   ],
   "source": [
    "(int(tl1) == int(tl1) and int(npl2) == int(tl2))"
   ]
  },
  {
   "cell_type": "markdown",
   "metadata": {},
   "source": [
    "## Testing Init"
   ]
  },
  {
   "cell_type": "code",
   "execution_count": 18,
   "metadata": {},
   "outputs": [],
   "source": [
    "import np_init\n",
    "import torch_init"
   ]
  },
  {
   "cell_type": "code",
   "execution_count": 19,
   "metadata": {},
   "outputs": [
    {
     "name": "stdout",
     "output_type": "stream",
     "text": [
      "2.69 s ± 22.9 ms per loop (mean ± std. dev. of 7 runs, 1 loop each)\n"
     ]
    }
   ],
   "source": [
    "%%timeit\n",
    "for i in range(100000):\n",
    "    w,b = np_init.initializer([3,2,1], \"xavier\")\n",
    "    w,b = np_init.initializer([3,2,1], \"he\")\n",
    "    w,b = np_init.initializer([3,2,1], \"std_gaussian\")\n",
    "    w,b = np_init.initializer([3,2,1], \"uniform\")"
   ]
  },
  {
   "cell_type": "code",
   "execution_count": 20,
   "metadata": {},
   "outputs": [
    {
     "name": "stdout",
     "output_type": "stream",
     "text": [
      "7.05 s ± 112 ms per loop (mean ± std. dev. of 7 runs, 1 loop each)\n"
     ]
    }
   ],
   "source": [
    "%%timeit\n",
    "for i in range(100000):\n",
    "    w,b = torch_init.initializer([3,2,1], \"xavier\")\n",
    "    w,b = torch_init.initializer([3,2,1], \"he\")\n",
    "    w,b = torch_init.initializer([3,2,1], \"std_gaussian\")\n",
    "    w,b = torch_init.initializer([3,2,1], \"uniform\")"
   ]
  },
  {
   "cell_type": "markdown",
   "metadata": {},
   "source": [
    "## Testing Inference"
   ]
  },
  {
   "cell_type": "code",
   "execution_count": 21,
   "metadata": {},
   "outputs": [],
   "source": [
    "import np_infer\n",
    "import torch_infer\n"
   ]
  },
  {
   "cell_type": "code",
   "execution_count": 26,
   "metadata": {},
   "outputs": [],
   "source": [
    "parameters = {\n",
    "    \"itr\":100, #this is the number of iterations\n",
    "    \"l_rate\":0.2, #this is the learning rate\n",
    "    \"epochs\":500, #this is the total number of epochs\n",
    "    \"beta\":0.2, #[TODO]\n",
    "    \"act_type\": \"RELU\",\n",
    "    \"alpha\": 1, #hyperparam for sigmoid activation\n",
    "    \"neurons\": [2,3,1], #this basically says two nodes for input, 5 in hidden and 1 for the output\n",
    "    \"variance\": [1,1,10] #this defines varaince for each layer, 1 for all layers but 10 for last, why though? [TODO]\n",
    "}\n",
    "parameters[\"n_layers\"] = (len(parameters[\"neurons\"]) ) #basically how many layers we have + 1"
   ]
  },
  {
   "cell_type": "code",
   "execution_count": 30,
   "metadata": {},
   "outputs": [],
   "source": [
    "in_data = np.array([[0,0],[0,1],[1,0],[1,1]])\n",
    "out_data = np.array([1,0,0,1])\n",
    "\n",
    "n_layers = parameters[\"n_layers\"]\n",
    "act_type =  parameters[\"act_type\"]\n",
    "alpha =  parameters[\"alpha\"]\n",
    "\n",
    "w,b = np_init.initializer(parameters[\"neurons\"], \"xavier\")\n",
    "\n",
    "x = [None] * n_layers\n",
    "x[0] = np.array(in_data[1]).reshape(1,-1)\n",
    "x_out = np.array(out_data[1]).reshape(1,-1)\n",
    "for j in range(1,n_layers):\n",
    "    x[j] = (np_functions.f(x[j-1].reshape(1,-1), act_type, alpha) @ w[j-1].T ) + b[j-1].T\n",
    "x[-1]  = np.array(x_out)\n",
    "\n",
    "params = parameters\n"
   ]
  },
  {
   "cell_type": "code",
   "execution_count": 34,
   "metadata": {},
   "outputs": [],
   "source": [
    "_, _ = np_infer.infer(x,w,b,parameters)\n"
   ]
  },
  {
   "cell_type": "code",
   "execution_count": 35,
   "metadata": {},
   "outputs": [
    {
     "name": "stdout",
     "output_type": "stream",
     "text": [
      "2.47 ms ± 9.41 µs per loop (mean ± std. dev. of 7 runs, 100 loops each)\n"
     ]
    }
   ],
   "source": [
    "%%timeit\n",
    "np_infer.infer(x,w,b,parameters)"
   ]
  },
  {
   "cell_type": "code",
   "execution_count": 36,
   "metadata": {},
   "outputs": [],
   "source": [
    "in_data = torch.tensor([[0,0],[0,1],[1,0],[1,1]], dtype=torch.float32)\n",
    "out_data = torch.tensor([1,0,0,1], dtype=torch.float32)\n",
    "\n",
    "n_layers = parameters[\"n_layers\"]\n",
    "act_type =  parameters[\"act_type\"]\n",
    "alpha =  parameters[\"alpha\"]\n",
    "\n",
    "w,b = torch_init.initializer(parameters[\"neurons\"], \"xavier\")\n",
    "\n",
    "x = [None] * n_layers\n",
    "x[0] = in_data[0].reshape(1,-1)\n",
    "x_out = out_data[0].reshape(1,-1)\n",
    "for j in range(1,n_layers):\n",
    "    x[j] = (torch_functions.f(x[j-1].reshape(1,-1), act_type, alpha) @ w[j-1].T ) + b[j-1].T\n",
    "x[-1]  = x_out\n",
    "\n",
    "params = parameters\n"
   ]
  },
  {
   "cell_type": "code",
   "execution_count": 37,
   "metadata": {},
   "outputs": [],
   "source": [
    "_, _ = torch_infer.infer(x,w,b,parameters)\n"
   ]
  },
  {
   "cell_type": "code",
   "execution_count": 38,
   "metadata": {},
   "outputs": [
    {
     "name": "stdout",
     "output_type": "stream",
     "text": [
      "7.52 ms ± 61.5 µs per loop (mean ± std. dev. of 7 runs, 100 loops each)\n"
     ]
    }
   ],
   "source": [
    "%%timeit\n",
    "torch_infer.infer(x,w,b,parameters)"
   ]
  },
  {
   "cell_type": "code",
   "execution_count": null,
   "metadata": {},
   "outputs": [],
   "source": []
  }
 ],
 "metadata": {
  "kernelspec": {
   "display_name": "pred-code",
   "language": "python",
   "name": "python3"
  },
  "language_info": {
   "codemirror_mode": {
    "name": "ipython",
    "version": 3
   },
   "file_extension": ".py",
   "mimetype": "text/x-python",
   "name": "python",
   "nbconvert_exporter": "python",
   "pygments_lexer": "ipython3",
   "version": "3.12.2"
  }
 },
 "nbformat": 4,
 "nbformat_minor": 2
}
